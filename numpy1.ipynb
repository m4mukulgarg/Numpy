{
 "cells": [
  {
   "cell_type": "code",
   "execution_count": 4,
   "metadata": {},
   "outputs": [
    {
     "data": {
      "text/plain": [
       "array([ 1,  2,  3, 45,  4])"
      ]
     },
     "execution_count": 4,
     "metadata": {},
     "output_type": "execute_result"
    }
   ],
   "source": [
    "#why we use numpy when we have list\n",
    "#1 Less memory\n",
    "#2 fast\n",
    "#3 convinicnt\n",
    "\n",
    "import numpy as np\n",
    "np.array([1,2,3,45,4])"
   ]
  },
  {
   "cell_type": "code",
   "execution_count": 8,
   "metadata": {},
   "outputs": [
    {
     "name": "stdout",
     "output_type": "stream",
     "text": [
      "28000\n",
      "4000\n"
     ]
    }
   ],
   "source": [
    "import sys\n",
    "\n",
    "\n",
    "#Here python list is used and takes large memory\n",
    "l = range(1000)\n",
    "print(sys.getsizeof(5)*len(l))\n",
    "\n",
    "\n",
    "#here numpy is used and takes less memory \n",
    "array = np.arange(1000)\n",
    "print(array.size*array.itemsize)"
   ]
  },
  {
   "cell_type": "code",
   "execution_count": 11,
   "metadata": {},
   "outputs": [
    {
     "name": "stdout",
     "output_type": "stream",
     "text": [
      "Python list took:  219.87295150756836\n",
      "Numpy took : 31.59618377685547\n"
     ]
    }
   ],
   "source": [
    "import time\n",
    "\n",
    "\n",
    "Size = 1000000\n",
    "l1=range(Size)\n",
    "l2=range(Size)\n",
    "\n",
    "a1=np.arange(Size)\n",
    "a2=np.arange(Size)\n",
    "\n",
    "\n",
    "#Python list\n",
    "start = time.time()\n",
    "result = [(x+y) for x,y in zip(l1,l2)]\n",
    "print(\"Python list took: \",(time.time()-start)*1000)\n",
    "\n",
    "\n",
    "\n",
    "#numpy  \n",
    "start=time.time()\n",
    "result = a1 + a2\n",
    "print(\"Numpy took :\",(time.time()-start)*1000)\n"
   ]
  }
 ],
 "metadata": {
  "kernelspec": {
   "display_name": "Python 3",
   "language": "python",
   "name": "python3"
  },
  "language_info": {
   "codemirror_mode": {
    "name": "ipython",
    "version": 3
   },
   "file_extension": ".py",
   "mimetype": "text/x-python",
   "name": "python",
   "nbconvert_exporter": "python",
   "pygments_lexer": "ipython3",
   "version": "3.6.3"
  }
 },
 "nbformat": 4,
 "nbformat_minor": 2
}
